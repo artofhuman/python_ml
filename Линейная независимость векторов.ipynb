{
 "cells": [
  {
   "cell_type": "markdown",
   "metadata": {},
   "source": [
    "## Линейная независиомсть векторов"
   ]
  },
  {
   "cell_type": "code",
   "execution_count": 33,
   "metadata": {},
   "outputs": [
    {
     "name": "stdout",
     "output_type": "stream",
     "text": [
      "[1. 0. 0.] [0. 5. 0.]\n"
     ]
    }
   ],
   "source": [
    "# Пусть даны вектора\n",
    "\n",
    "e1 = [1., 0., 0.]\n",
    "e2 = [0., 5., 0.]\n",
    "\n",
    "# Вектора e1 и e2 называются независимымми если не тривиальная кобинация векторов [не с нулевыми коэфицентами]\n",
    "# не равноа нулевому вектору\n",
    "# то есть:\n",
    "\n",
    "import numpy as np\n",
    "\n",
    "e1 = np.array(e1)\n",
    "e2 = np.array(e2)\n",
    "\n",
    "print e1, e2\n"
   ]
  },
  {
   "cell_type": "code",
   "execution_count": 18,
   "metadata": {},
   "outputs": [
    {
     "data": {
      "text/plain": [
       "array([-3., 10.,  0.])"
      ]
     },
     "execution_count": 18,
     "metadata": {},
     "output_type": "execute_result"
    }
   ],
   "source": [
    "-3*e1 + 2*e2 # линейно независимы\n"
   ]
  },
  {
   "cell_type": "code",
   "execution_count": 31,
   "metadata": {},
   "outputs": [
    {
     "data": {
      "text/plain": [
       "array([0., 0., 0.])"
      ]
     },
     "execution_count": 31,
     "metadata": {},
     "output_type": "execute_result"
    }
   ],
   "source": [
    "a = np.array([-3., 10., 0.])\n",
    "\n",
    "3*e1 - 2*e2 + 1*a # Существует такая комбинация векторов, которая равна нулевому вектору, значит эти вектора зависимы"
   ]
  },
  {
   "cell_type": "markdown",
   "metadata": {},
   "source": [
    "## Ранг матрицы"
   ]
  },
  {
   "cell_type": "code",
   "execution_count": 28,
   "metadata": {},
   "outputs": [
    {
     "data": {
      "text/plain": [
       "array([[ 1.,  0.,  0.],\n",
       "       [ 0.,  5.,  0.],\n",
       "       [-3., 10.,  0.]])"
      ]
     },
     "execution_count": 28,
     "metadata": {},
     "output_type": "execute_result"
    }
   ],
   "source": [
    "M = np.array([e1, e2, a])\n",
    "\n",
    "M"
   ]
  },
  {
   "cell_type": "code",
   "execution_count": 29,
   "metadata": {},
   "outputs": [],
   "source": [
    "# Ранг матрицы это максимальное количество линейно независимых строк или столбцов матрицы"
   ]
  },
  {
   "cell_type": "code",
   "execution_count": 30,
   "metadata": {},
   "outputs": [
    {
     "data": {
      "text/plain": [
       "2"
      ]
     },
     "execution_count": 30,
     "metadata": {},
     "output_type": "execute_result"
    }
   ],
   "source": [
    "np.linalg.matrix_rank(M)"
   ]
  },
  {
   "cell_type": "markdown",
   "metadata": {},
   "source": [
    "## Задачи"
   ]
  },
  {
   "cell_type": "code",
   "execution_count": 57,
   "metadata": {},
   "outputs": [
    {
     "name": "stdout",
     "output_type": "stream",
     "text": [
      "[[ 1.  0.]\n",
      " [ 0.  1.]\n",
      " [-1.  1.]]\n",
      "2 \n",
      "----\n",
      "[0. 0.] \n",
      "вектора ленийено зависимы\n",
      "2\n"
     ]
    }
   ],
   "source": [
    "# (1,0),(0,1),(−1,1)\n",
    "\n",
    "a1 = np.array([1., 0.])\n",
    "a2 = np.array([0., 1.])\n",
    "a3 = np.array([-1., 1.])\n",
    "\n",
    "M = np.array([a1, a2, a3])\n",
    "print M\n",
    "\n",
    "print np.linalg.matrix_rank(M), '\\n----'\n",
    "\n",
    "print 1*a1 -  1*a2 + 1*a3, '\\nвектора ленийено зависимы'\n",
    "\n",
    "\n",
    "# (1,0),(0,1)\n",
    "\n",
    "a1 = np.array([1., 0.])\n",
    "a2 = np.array([0., 1.])\n",
    "\n",
    "print np.linalg.matrix_rank(np.array([a1, a2])) # линейно незавимсмы\n",
    "\n",
    "\n",
    "# (1,0),(1,1) линейно незавимсмы"
   ]
  },
  {
   "cell_type": "markdown",
   "metadata": {},
   "source": [
    "## 2 манхэттенская норма вектора"
   ]
  },
  {
   "cell_type": "markdown",
   "metadata": {},
   "source": [
    "$$\n",
    " \\left\\Vert x \\right\\Vert_{1} = \\sum_{i=1}^n \\left| x_{i} \\right|.\n",
    "$$"
   ]
  },
  {
   "cell_type": "code",
   "execution_count": 67,
   "metadata": {},
   "outputs": [
    {
     "data": {
      "text/plain": [
       "4.0"
      ]
     },
     "execution_count": 67,
     "metadata": {},
     "output_type": "execute_result"
    }
   ],
   "source": [
    "a = np.array([-1., 2., -1.])\n",
    "\n",
    "np.linalg.norm(a, ord=1) # манхэттенская норма вектора"
   ]
  },
  {
   "cell_type": "code",
   "execution_count": 69,
   "metadata": {},
   "outputs": [
    {
     "name": "stdout",
     "output_type": "stream",
     "text": [
      "4.0\n"
     ]
    }
   ],
   "source": [
    "print 1. + 2. + 1."
   ]
  },
  {
   "cell_type": "markdown",
   "metadata": {},
   "source": [
    "## 3 скалярное произведение векторов a=(1,2,3) и b=(−3,1,1)?"
   ]
  },
  {
   "cell_type": "markdown",
   "metadata": {},
   "source": [
    "Скалярное произведение в пространстве $\\mathbb{R}^{n}$ для двух векторов $x = (x_{1}, \\dots, x_{n})$ и $y = (y_{1}, \\dots, y_{n})$ определяется как:\n",
    "\n",
    "$$\n",
    "\\langle x, y \\rangle = \\sum_{i=1}^n x_{i} y_{i}.\n",
    "$$"
   ]
  },
  {
   "cell_type": "code",
   "execution_count": 70,
   "metadata": {},
   "outputs": [
    {
     "data": {
      "text/plain": [
       "2"
      ]
     },
     "execution_count": 70,
     "metadata": {},
     "output_type": "execute_result"
    }
   ],
   "source": [
    "(-3*1) + (2 * 1) + (3 * 1)"
   ]
  },
  {
   "cell_type": "code",
   "execution_count": 73,
   "metadata": {},
   "outputs": [
    {
     "data": {
      "text/plain": [
       "2.0"
      ]
     },
     "execution_count": 73,
     "metadata": {},
     "output_type": "execute_result"
    }
   ],
   "source": [
    "a1, a2 = np.array([1., 2., 3.]), np.array([-3., 1., 1.])\n",
    "\n",
    "a1.dot(a2)"
   ]
  },
  {
   "cell_type": "code",
   "execution_count": null,
   "metadata": {},
   "outputs": [],
   "source": []
  },
  {
   "cell_type": "code",
   "execution_count": null,
   "metadata": {},
   "outputs": [],
   "source": []
  }
 ],
 "metadata": {
  "kernelspec": {
   "display_name": "Python 2",
   "language": "python",
   "name": "python2"
  },
  "language_info": {
   "codemirror_mode": {
    "name": "ipython",
    "version": 2
   },
   "file_extension": ".py",
   "mimetype": "text/x-python",
   "name": "python",
   "nbconvert_exporter": "python",
   "pygments_lexer": "ipython2",
   "version": "2.7.14"
  }
 },
 "nbformat": 4,
 "nbformat_minor": 2
}
